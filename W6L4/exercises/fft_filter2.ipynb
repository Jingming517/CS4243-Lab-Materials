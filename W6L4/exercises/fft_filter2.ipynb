{
 "cells": [
  {
   "cell_type": "markdown",
   "id": "f0be50fe",
   "metadata": {},
   "source": [
    "# FFT Filtering Example\n",
    "### CS4243"
   ]
  },
  {
   "cell_type": "code",
   "execution_count": null,
   "id": "fe581ac4",
   "metadata": {},
   "outputs": [],
   "source": [
    "import numpy as np\n",
    "import cv2 as cv\n",
    "from matplotlib import pyplot as plt\n",
    "from utils import idealHighPass, idealLowPass, ButterworthLowPass, GaussLowPass"
   ]
  },
  {
   "cell_type": "code",
   "execution_count": null,
   "id": "47cbef99",
   "metadata": {},
   "outputs": [],
   "source": [
    "# read the image, 0 means reading as gray level\n",
    "gray = cv.imread(\"../../Examples/set1/wm74_2.bmp\", 0)\n",
    "\n",
    "# Fourier transform\n",
    "# output, img_dft, is a complex matrix of the image size\n",
    "img_dft = \n",
    "\n",
    "# we need to employ fftshift to bring the lower frequency components \n",
    "# to the centre of the frequency domain\n",
    "dft_shift =   # Move frequency domain from upper left to middle\n",
    "\n",
    "print(img_dft.shape , type(img_dft), img_dft.dtype , img_dft[0,0])\n"
   ]
  },
  {
   "cell_type": "code",
   "execution_count": null,
   "id": "369934dd",
   "metadata": {},
   "outputs": [],
   "source": [
    "## visualize the maganitutde and phase of the image in frequency domain \n",
    "dft_shift_abs = \n",
    "dft_shift_phase = \n",
    "\n",
    "fig, axes = plt.subplots(1,2, figsize=(20,10))\n",
    "axes[0].imshow(20*np.log10(dft_shift_abs), cmap='gray')\n",
    "axes[1].imshow(dft_shift_phase, cmap='gray')\n"
   ]
  },
  {
   "cell_type": "code",
   "execution_count": null,
   "id": "f671b1ac",
   "metadata": {},
   "outputs": [],
   "source": [
    "## define idea low pass and high pass filter\n",
    "### Hint: calcuate the distance from the pixel to mask center\n",
    "\n",
    "def my_idealHighPass(mask_h, mask_w, D0):\n",
    "    # D0 cut-off [0,1]\n",
    "\n",
    "    return filter\n",
    "\n",
    "\n",
    "def my_idealLowPass(mask_h, mask_w, D0):\n",
    "    # D0 cut-off [0,1]\n",
    "\n",
    "    return filter"
   ]
  },
  {
   "cell_type": "code",
   "execution_count": null,
   "id": "69a9142c",
   "metadata": {},
   "outputs": [],
   "source": [
    "## define ButterworthLowPass low pass filter\n",
    "### Hint: calcuate the distance from the pixel to mask center\n",
    "\n",
    "def my_ButterworthLowPass(mask_h, mask_w, D0, degrees):\n",
    "    # D0 cut-off [0,1]\n",
    "\n",
    "    return filter\n"
   ]
  },
  {
   "cell_type": "code",
   "execution_count": null,
   "id": "ab6261fe",
   "metadata": {},
   "outputs": [],
   "source": [
    "## define GaussLowPass filter\n",
    "### Hint: calcuate the distance from the pixel to mask center\n",
    "\n",
    "def my_GaussLowPass(mask_h, mask_w, D0):\n",
    "    # D0 cut-off [0,1]\n",
    "\n",
    "    return filter"
   ]
  },
  {
   "cell_type": "markdown",
   "id": "b8ab1d34",
   "metadata": {},
   "source": [
    "## Compare filtered images and original images"
   ]
  },
  {
   "cell_type": "code",
   "execution_count": null,
   "id": "510ff7bd",
   "metadata": {},
   "outputs": [],
   "source": [
    "# Apply filters, visualize filter, filtered, and original images\n",
    "\n",
    "M = gray.shape\n",
    "fig, axes = plt.subplots(3,3, figsize=(30,20))\n",
    "for i in range(3):\n",
    "    # define filter\n",
    "    f = \n",
    "    # apply filter\n",
    "    dft_shift_abs_filtered = \n",
    "    # building the complext matrix after filtering \n",
    "    z = \n",
    "    # shift back\n",
    "    idft_shift_filtered = \n",
    "    ifimg = \n",
    "\n",
    "    \n",
    "    axes[i,0].imshow(f, 'gray')\n",
    "    if i==0:\n",
    "        axes[i,1].imshow(gray, 'gray')\n",
    "    else:\n",
    "        axes[i,1].imshow(last_filtered - np.abs(ifimg), 'gray')\n",
    "    axes[i,2].imshow((np.abs(ifimg)), cmap='gray')\n",
    "    last_filtered = np.abs(ifimg)"
   ]
  },
  {
   "cell_type": "code",
   "execution_count": null,
   "id": "6cc08a25",
   "metadata": {},
   "outputs": [],
   "source": [
    "M = f.shape\n",
    "# 3d plot of ideal low pass filter\n",
    "fig, ax = plt.subplots(subplot_kw={\"projection\": \"3d\"}, figsize=(20,10))\n",
    "xv, yv = np.meshgrid(range(M[0]), range(M[1]), indexing='ij')\n",
    "ax.plot_surface(xv,yv,f,cmap='coolwarm',linewidth=0)\n",
    "\n"
   ]
  },
  {
   "cell_type": "code",
   "execution_count": null,
   "id": "a46abb5c",
   "metadata": {},
   "outputs": [],
   "source": [
    "xv"
   ]
  },
  {
   "cell_type": "code",
   "execution_count": null,
   "id": "d00489a9",
   "metadata": {},
   "outputs": [],
   "source": []
  }
 ],
 "metadata": {
  "kernelspec": {
   "display_name": "Python 3.9.13",
   "language": "python",
   "name": "python3"
  },
  "language_info": {
   "codemirror_mode": {
    "name": "ipython",
    "version": 3
   },
   "file_extension": ".py",
   "mimetype": "text/x-python",
   "name": "python",
   "nbconvert_exporter": "python",
   "pygments_lexer": "ipython3",
   "version": "3.9.13"
  },
  "vscode": {
   "interpreter": {
    "hash": "74a5f64ddd9e28f76452a947b7c216155d372e82d4ef5e83e3a46c003e8ae6ee"
   }
  }
 },
 "nbformat": 4,
 "nbformat_minor": 5
}
